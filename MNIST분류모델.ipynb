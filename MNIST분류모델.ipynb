{
 "cells": [
  {
   "cell_type": "code",
   "execution_count": 13,
   "metadata": {},
   "outputs": [],
   "source": [
    "import tensorflow as tf\n",
    "from tensorflow import keras\n",
    "import numpy as np"
   ]
  },
  {
   "cell_type": "code",
   "execution_count": 3,
   "metadata": {},
   "outputs": [],
   "source": [
    "fashion_mnist = keras.datasets.fashion_mnist\n",
    "(train_images, train_labels), (test_images, test_labels) = fashion_mnist.load_data()"
   ]
  },
  {
   "cell_type": "code",
   "execution_count": 4,
   "metadata": {},
   "outputs": [],
   "source": [
    "class_names = ['T-shirt/top', 'Trouser', 'Pullover', 'Dress', 'Coat', 'Sandal', 'Shirt', 'Sneaker', 'Bag', 'Ankle boot']"
   ]
  },
  {
   "cell_type": "code",
   "execution_count": 5,
   "metadata": {},
   "outputs": [],
   "source": [
    "# 값의 범위를 0~1 사이로 조정하기 위해 255로 나눔 (데이터가 0~255까지의 값으로 되어있음)\n",
    "train_images = train_images / 255.0\n",
    "test_images = test_images / 255.0"
   ]
  },
  {
   "cell_type": "code",
   "execution_count": 6,
   "metadata": {},
   "outputs": [],
   "source": [
    "# 모델 구성\n",
    "model = keras.Sequential([\n",
    "    keras.layers.Flatten(input_shape=(28, 28)),     # flatten을 사용, 2차원 배열을 1차원 배열 값으로 변경\n",
    "    keras.layers.Dense(128, activation='relu'),     # relu 활성화 함수 사용. 128개의 노드를 가진 신경망 층\n",
    "    keras.layers.Dense(10, activation='softmax')    # 10개의 레이블 값을 가진 output layer, softmax로 확률로 변경함\n",
    "])"
   ]
  },
  {
   "cell_type": "code",
   "execution_count": 7,
   "metadata": {},
   "outputs": [],
   "source": [
    "# 모델 컴파일\n",
    "model.compile(optimizer='adam',\n",
    "            loss = 'sparse_categorical_crossentropy',\n",
    "            metrics = ['accuracy'])         # 옵티마이저, 손실함수 설정, 지표는 정확도"
   ]
  },
  {
   "cell_type": "code",
   "execution_count": 8,
   "metadata": {},
   "outputs": [
    {
     "name": "stdout",
     "output_type": "stream",
     "text": [
      "Epoch 1/5\n",
      "1875/1875 [==============================] - 2s 1ms/step - loss: 0.4967 - accuracy: 0.8276: 0s - loss: 0.5211 - accuracy: 0.81 - ETA: 0s - loss: 0.518\n",
      "Epoch 2/5\n",
      "1875/1875 [==============================] - 2s 1ms/step - loss: 0.3732 - accuracy: 0.8661: 0s - loss: 0.3\n",
      "Epoch 3/5\n",
      "1875/1875 [==============================] - 2s 1ms/step - loss: 0.3354 - accuracy: 0.8777\n",
      "Epoch 4/5\n",
      "1875/1875 [==============================] - 2s 969us/step - loss: 0.3121 - accuracy: 0.8855\n",
      "Epoch 5/5\n",
      "1875/1875 [==============================] - 2s 887us/step - loss: 0.2943 - accuracy: 0.8922\n"
     ]
    },
    {
     "data": {
      "text/plain": [
       "<keras.callbacks.History at 0x266c21ed670>"
      ]
     },
     "execution_count": 8,
     "metadata": {},
     "output_type": "execute_result"
    }
   ],
   "source": [
    "# 데이터 훈련. 5번 반복 학습\n",
    "model.fit(train_images, train_labels, epochs=5)     # verbose 기본값 1이구나"
   ]
  },
  {
   "cell_type": "code",
   "execution_count": 9,
   "metadata": {},
   "outputs": [
    {
     "name": "stdout",
     "output_type": "stream",
     "text": [
      "313/313 - 0s - loss: 0.3756 - accuracy: 0.8662 - 306ms/epoch - 977us/step\n",
      "\n",
      "test accuracy: 0.8661999702453613\n"
     ]
    }
   ],
   "source": [
    "# 테스트 데이터셋으로 모델 평가\n",
    "test_loss, test_acc = model.evaluate(test_images, test_labels, verbose=2)\n",
    "print('\\ntest accuracy:', test_acc)"
   ]
  },
  {
   "cell_type": "code",
   "execution_count": 11,
   "metadata": {},
   "outputs": [
    {
     "name": "stdout",
     "output_type": "stream",
     "text": [
      "[1.1762748e-04 5.3678986e-07 1.0119448e-06 9.6853272e-09 4.5647874e-07\n",
      " 3.1582996e-02 7.0345304e-05 4.9693339e-02 1.8725099e-05 9.1851497e-01]\n",
      "Ankle boot => Ankle boot\n"
     ]
    }
   ],
   "source": [
    "# 분류 예측\n",
    "predictions = model.predict(test_images)\n",
    "print(predictions[0])\n",
    "print(class_names[test_labels[0]], '=>', class_names[np.argmax(predictions[0])])\n",
    "\n",
    "# 0번째 데이터의 레이블별 예측 결과와 실제데이터를 예측한 데이터 호출\n",
    "# predictions에는 해당 데이터의 모든 레이블값의 확률을 출력하기 때문에 argmax를 사용, 가장 높은 값의 index 값 리턴"
   ]
  },
  {
   "cell_type": "code",
   "execution_count": 12,
   "metadata": {},
   "outputs": [
    {
     "name": "stdout",
     "output_type": "stream",
     "text": [
      "Ankle boot => Ankle boot\n",
      "Pullover => Pullover\n",
      "Trouser => Trouser\n",
      "Trouser => Trouser\n",
      "Shirt => Shirt\n",
      "Trouser => Trouser\n",
      "Coat => Coat\n",
      "Shirt => Shirt\n",
      "Sandal => Sandal\n",
      "Sneaker => Sneaker\n",
      "Coat => Coat\n",
      "Sandal => Sandal\n",
      "Sneaker => Sandal\n",
      "Dress => Dress\n",
      "Coat => Coat\n",
      "Trouser => Trouser\n",
      "Pullover => Pullover\n",
      "Coat => Pullover\n",
      "Bag => Bag\n",
      "T-shirt/top => T-shirt/top\n",
      "Pullover => Pullover\n",
      "Sandal => Sandal\n",
      "Sneaker => Sneaker\n",
      "Ankle boot => Sandal\n",
      "Trouser => Trouser\n",
      "Coat => Pullover\n",
      "Shirt => Shirt\n",
      "T-shirt/top => T-shirt/top\n",
      "Ankle boot => Ankle boot\n",
      "Dress => Coat\n",
      "Bag => Bag\n",
      "Bag => Bag\n",
      "Dress => Dress\n",
      "Dress => Dress\n",
      "Bag => Bag\n",
      "T-shirt/top => T-shirt/top\n",
      "Sneaker => Sneaker\n",
      "Sandal => Sandal\n",
      "Sneaker => Sneaker\n",
      "Ankle boot => Ankle boot\n",
      "Shirt => T-shirt/top\n",
      "Trouser => Trouser\n",
      "Dress => Shirt\n",
      "Sneaker => Sneaker\n",
      "Shirt => Shirt\n",
      "Sneaker => Sneaker\n",
      "Pullover => Pullover\n",
      "Trouser => Trouser\n",
      "Pullover => Pullover\n",
      "Pullover => Shirt\n",
      "Coat => Coat\n",
      "Coat => Pullover\n",
      "Sandal => Sandal\n",
      "Bag => Shirt\n",
      "Pullover => Pullover\n",
      "Pullover => Pullover\n",
      "Bag => Bag\n",
      "Coat => Shirt\n",
      "Bag => Bag\n",
      "T-shirt/top => T-shirt/top\n",
      "Sneaker => Sneaker\n",
      "Sneaker => Sneaker\n",
      "Bag => Bag\n",
      "Sandal => Sandal\n",
      "Trouser => Trouser\n",
      "Trouser => Trouser\n",
      "Pullover => Pullover\n",
      "Dress => Coat\n",
      "Ankle boot => Sneaker\n",
      "Bag => Bag\n",
      "Sneaker => Sneaker\n",
      "T-shirt/top => T-shirt/top\n",
      "Pullover => Pullover\n",
      "Shirt => Shirt\n",
      "Pullover => Pullover\n",
      "Dress => Dress\n",
      "Trouser => Trouser\n",
      "Pullover => Pullover\n",
      "Bag => Bag\n",
      "Coat => Coat\n",
      "Trouser => Trouser\n",
      "Bag => Bag\n",
      "Sandal => Sandal\n",
      "Ankle boot => Ankle boot\n",
      "Sandal => Sandal\n",
      "T-shirt/top => T-shirt/top\n",
      "Dress => Dress\n",
      "Pullover => Pullover\n",
      "T-shirt/top => T-shirt/top\n",
      "Shirt => Pullover\n",
      "Sandal => Sandal\n",
      "Dress => Dress\n",
      "Shirt => Shirt\n",
      "Sneaker => Sneaker\n",
      "Trouser => Trouser\n",
      "Bag => Shirt\n",
      "T-shirt/top => T-shirt/top\n",
      "Trouser => Trouser\n",
      "Coat => Shirt\n",
      "Pullover => Pullover\n"
     ]
    }
   ],
   "source": [
    "# 100개의 데이터를 불러와 예측도 확인\n",
    "for i in range(0, 100):\n",
    "    print(class_names[test_labels[i]], '=>', class_names[np.argmax(predictions[i])])"
   ]
  },
  {
   "cell_type": "markdown",
   "metadata": {},
   "source": [
    "# 다시!\n",
    "- https://needjarvis.tistory.com/566?category=759188"
   ]
  },
  {
   "cell_type": "code",
   "execution_count": 21,
   "metadata": {},
   "outputs": [],
   "source": [
    "epochs = 200        # 몇 번(혹은 얼마나 길게) 학습을 수행할 것인가\n",
    "batch_size = 128    # 한 번에 입력해야 할 표본 수\n",
    "verbose = 1         # 0=silent, 1=progress bar, 2=one line per epoch\n",
    "validation_split = 0.2      # 훈련 프로세스 유효성 확인을 위해 남겨운 데이터\n",
    "output_class = 10           # 최종 출력되는 값의 범위 지정. mnist에서는 0~9 사이라 10이 고정값"
   ]
  },
  {
   "cell_type": "code",
   "execution_count": 15,
   "metadata": {},
   "outputs": [
    {
     "name": "stdout",
     "output_type": "stream",
     "text": [
      "Downloading data from https://storage.googleapis.com/tensorflow/tf-keras-datasets/mnist.npz\n",
      "11493376/11490434 [==============================] - 0s 0us/step\n",
      "11501568/11490434 [==============================] - 0s 0us/step\n",
      "(60000, 28, 28)\n",
      "(10000, 28, 28)\n"
     ]
    }
   ],
   "source": [
    "mnist = keras.datasets.mnist\n",
    "(X_train, Y_train), (X_test, Y_test) = mnist.load_data()\n",
    "\n",
    "print(X_train.shape)\n",
    "print(X_test.shape)"
   ]
  },
  {
   "cell_type": "code",
   "execution_count": 18,
   "metadata": {},
   "outputs": [],
   "source": [
    "X_train = X_train.astype('float32')\n",
    "X_test = X_test.astype('float32')\n",
    "\n",
    "X_train /= 255\n",
    "X_test /= 255"
   ]
  },
  {
   "cell_type": "markdown",
   "metadata": {},
   "source": [
    "> One-Hot Encoding"
   ]
  },
  {
   "cell_type": "code",
   "execution_count": 22,
   "metadata": {},
   "outputs": [
    {
     "name": "stdout",
     "output_type": "stream",
     "text": [
      "[[0. 0. 0. ... 0. 0. 0.]\n",
      " [1. 0. 0. ... 0. 0. 0.]\n",
      " [0. 0. 0. ... 0. 0. 0.]\n",
      " ...\n",
      " [0. 0. 0. ... 0. 0. 0.]\n",
      " [0. 0. 0. ... 0. 0. 0.]\n",
      " [0. 0. 0. ... 0. 1. 0.]]\n"
     ]
    }
   ],
   "source": [
    "Y_train = tf.keras.utils.to_categorical(Y_train, output_class)\n",
    "Y_test = tf.keras.utils.to_categorical(Y_test, output_class)\n",
    "print(Y_train)"
   ]
  },
  {
   "cell_type": "markdown",
   "metadata": {},
   "source": [
    "### 모델 생성"
   ]
  },
  {
   "cell_type": "code",
   "execution_count": 24,
   "metadata": {},
   "outputs": [],
   "source": [
    "model = tf.keras.models.Sequential()\n",
    "model = keras.Sequential([\n",
    "    keras.layers.Flatten(input_shape=(28, 28)),     # 데이터를 1차원 배열값으로 바꿔줘야 함 reshape 써도 됨\n",
    "    keras.layers.Dense(128, activation='relu'),     # Dense > 레이어 생성. 128은 히든노드, activation은 활성화 함수 지정\n",
    "    keras.layers.Dense(10, activation='softmax')\n",
    "])"
   ]
  },
  {
   "cell_type": "code",
   "execution_count": null,
   "metadata": {},
   "outputs": [],
   "source": []
  }
 ],
 "metadata": {
  "interpreter": {
   "hash": "57728f4bfd9bc978c25d5c9cdcf277be28bad00a01dc89349b2fca774db23ac6"
  },
  "kernelspec": {
   "display_name": "Python 3.8.8 64-bit ('base': conda)",
   "language": "python",
   "name": "python3"
  },
  "language_info": {
   "codemirror_mode": {
    "name": "ipython",
    "version": 3
   },
   "file_extension": ".py",
   "mimetype": "text/x-python",
   "name": "python",
   "nbconvert_exporter": "python",
   "pygments_lexer": "ipython3",
   "version": "3.8.8"
  },
  "orig_nbformat": 4
 },
 "nbformat": 4,
 "nbformat_minor": 2
}
